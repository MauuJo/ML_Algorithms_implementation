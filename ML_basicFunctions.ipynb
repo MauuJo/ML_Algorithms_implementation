{
 "cells": [
  {
   "cell_type": "code",
   "execution_count": 2,
   "id": "7a6139c0-ace4-447f-96f0-08f914157de7",
   "metadata": {},
   "outputs": [],
   "source": [
    "import numpy as np\n",
    "import random\n"
   ]
  },
  {
   "cell_type": "code",
   "execution_count": 3,
   "id": "1d3a52db-701b-4f07-b633-eaf5fb0a7e5d",
   "metadata": {},
   "outputs": [
    {
     "name": "stdout",
     "output_type": "stream",
     "text": [
      "[[1 2 3]\n",
      " [2 1 4]]\n"
     ]
    }
   ],
   "source": [
    "A = np.array([[1,2,3],[2,1,4]])\n",
    "print(A)"
   ]
  },
  {
   "cell_type": "code",
   "execution_count": 4,
   "id": "8f07819f-5d2f-4b1c-b5f2-0d90a7abf44e",
   "metadata": {},
   "outputs": [
    {
     "data": {
      "text/plain": [
       "array([[2, 4],\n",
       "       [4, 2],\n",
       "       [6, 8]])"
      ]
     },
     "execution_count": 4,
     "metadata": {},
     "output_type": "execute_result"
    }
   ],
   "source": [
    "#QUESTION 1\n",
    "\n",
    "A = np.array([[1,2,3],[2,1,4]])\n",
    "B = np.array([[1,0],[2,1],[3,2]])\n",
    "C = np.array([[3,-1,3],[4,1,5],[2,1,3]])\n",
    "D = np.array([[2,-4,5],[0,1,4],[3,2,1]])\n",
    "E = np.array([[3,-2],[2,4]])\n",
    "\n",
    "#1\n",
    "2*(A.transpose())\n",
    "\n"
   ]
  },
  {
   "cell_type": "code",
   "execution_count": 5,
   "id": "bfbd3421-388e-433e-bb67-e7a1c61be908",
   "metadata": {},
   "outputs": [],
   "source": [
    "#2\n",
    "#(A-B).transpose()\n",
    "#not possible"
   ]
  },
  {
   "cell_type": "code",
   "execution_count": 6,
   "id": "76eeda67-fd29-4ab6-a3c5-9f26134190ec",
   "metadata": {},
   "outputs": [
    {
     "data": {
      "text/plain": [
       "array([[ 2, -2],\n",
       "       [ 4,  2],\n",
       "       [ 6,  2]])"
      ]
     },
     "execution_count": 6,
     "metadata": {},
     "output_type": "execute_result"
    }
   ],
   "source": [
    "#3\n",
    "((3*(B.transpose())-A)).transpose()"
   ]
  },
  {
   "cell_type": "code",
   "execution_count": 7,
   "id": "203f4f33-250c-4a62-997e-1156d5ae6cfd",
   "metadata": {},
   "outputs": [],
   "source": [
    "#4\n",
    "#(((-1)*A).transpose())*E\n",
    "#not possible"
   ]
  },
  {
   "cell_type": "code",
   "execution_count": 8,
   "id": "14d77b0f-704a-4aea-b303-4e497cbc46a4",
   "metadata": {},
   "outputs": [],
   "source": [
    "#5\n",
    "#(np.add(C,2*(D.transpose())E)).transpose()\n",
    "#not possible"
   ]
  },
  {
   "cell_type": "code",
   "execution_count": 9,
   "id": "4f9957ff-cc2f-459f-af92-f7591415eb6a",
   "metadata": {},
   "outputs": [
    {
     "name": "stdout",
     "output_type": "stream",
     "text": [
      "[[ 2 -4]\n",
      " [-9  8]]\n",
      "[[ 2 -4]\n",
      " [-9  8]]\n",
      "AB = BA \n",
      " Hence proved!\n"
     ]
    }
   ],
   "source": [
    "#QUESTON 2\n",
    "\n",
    "A = np.array([[1,4],[3,2]])\n",
    "B = np.array([[2,-1],[-3,4]])\n",
    "\n",
    "product_1 = A*B\n",
    "print(product_1)\n",
    "product_2 = B*A\n",
    "print(product_2)\n",
    "\n",
    "if(product_1.all() == product_2.all()):\n",
    "    print(\"AB = BA \\n Hence proved!\")\n",
    "else:\n",
    "    print(\"AB != BA\\n Hence proved!\")"
   ]
  },
  {
   "cell_type": "code",
   "execution_count": 10,
   "id": "3e3e26c3-32ec-4607-97e9-69ae1540692b",
   "metadata": {},
   "outputs": [],
   "source": [
    "#QUESTION 3\n",
    "\n",
    "v1 = np.array([1,0,-1])\n",
    "v2 = np.array([1,np.sqrt(2),1])\n",
    "v3 = np.array([1,-(np.sqrt(2)),1])"
   ]
  },
  {
   "cell_type": "code",
   "execution_count": 11,
   "id": "d425fa1b-145a-4843-853d-314d97688c97",
   "metadata": {},
   "outputs": [
    {
     "name": "stdout",
     "output_type": "stream",
     "text": [
      "Orthogonal vectors!\n"
     ]
    }
   ],
   "source": [
    "r1 = int(np.dot(v1,v2))\n",
    "r2 = int(np.dot(v2,v3))\n",
    "r3 = int(np.dot(v1,v3))\n",
    "\n",
    "if(r1==r2==r3==0):\n",
    "    print(\"Orthogonal vectors!\")\n",
    "else:\n",
    "    print(\"given vectors are not orthogonal!\")\n",
    "\n"
   ]
  },
  {
   "cell_type": "code",
   "execution_count": 12,
   "id": "fcdf47a5-94e5-4b72-abf1-3ea59de93a68",
   "metadata": {},
   "outputs": [
    {
     "name": "stdout",
     "output_type": "stream",
     "text": [
      "[ 0.70710678  0.         -0.70710678] , [0.5        0.70710678 0.5       ] , [ 0.5        -0.70710678  0.5       ]\n"
     ]
    }
   ],
   "source": [
    "n1 = np.linalg.norm(v1)\n",
    "n2 = np.linalg.norm(v2)\n",
    "n3 = np.linalg.norm(v3)\n",
    "\n",
    "v1_ = v1/n1\n",
    "v2_ = v2/n2\n",
    "v3_ = v3/n3\n",
    "\n",
    "print(v1_,\",\",v2_,\",\",v3_)"
   ]
  },
  {
   "cell_type": "code",
   "execution_count": 13,
   "id": "c1c99a51-2d44-4f37-a2b2-78dd1bd2552c",
   "metadata": {},
   "outputs": [
    {
     "name": "stdout",
     "output_type": "stream",
     "text": [
      "rank =  1\n"
     ]
    }
   ],
   "source": [
    "#QUESTION 4\n",
    "\n",
    "n = random.randint(0,100)\n",
    "m = random.randint(0,100)\n",
    "x = np.random.randint(n,size=(m,1))\n",
    "y = np.random.randint(m,size=(n,1))\n",
    "\n",
    "rank = np.linalg.matrix_rank(x*y.T)\n",
    "print(\"rank = \",rank)"
   ]
  },
  {
   "cell_type": "code",
   "execution_count": 18,
   "id": "772967c1-a4b8-425d-8dec-7b861e66b723",
   "metadata": {},
   "outputs": [],
   "source": [
    "#QUESTION 5\n",
    "\n",
    "#theoretically proved\n",
    "               \n"
   ]
  },
  {
   "cell_type": "code",
   "execution_count": 15,
   "id": "c721df28-c17f-4018-acba-121d0ccd8220",
   "metadata": {},
   "outputs": [
    {
     "name": "stdout",
     "output_type": "stream",
     "text": [
      "xxT is symmetrical\n",
      "Positive Semi-Definite: True\n",
      "Positive Definite (if rank full): True\n"
     ]
    }
   ],
   "source": [
    "#QUESTION 6\n",
    "\n",
    "n = random.randint(0,100)\n",
    "x = np.random.randint(n,size=(n,n))\n",
    "\n",
    "\n",
    "if( (x*(x.T)).all() == ((x*(x.T)).T).all()):\n",
    "    print(\"xxT is symmetrical\")\n",
    "else:\n",
    "    print(\"xxT is not symmetrical\")\n",
    "\n",
    "\n",
    "\n",
    "v = np.random.random((n, 1))\n",
    "\n",
    "if(np.dot(v.T, (x.T)*x*v).all() >= 0):\n",
    "    is_positive_semi_definite = True\n",
    "else:\n",
    "    is_positive_semi_definite = False\n",
    "\n",
    "is_positive_definite = np.linalg.matrix_rank(X) == min(m, n)\n",
    "\n",
    "\n",
    "print(\"Positive Semi-Definite:\", is_positive_semi_definite)\n",
    "print(\"Positive Definite (if rank full):\", is_positive_definite)\n",
    "\n"
   ]
  },
  {
   "cell_type": "code",
   "execution_count": 17,
   "id": "082f627c-35e2-4e50-9820-08c54106c021",
   "metadata": {},
   "outputs": [
    {
     "name": "stdout",
     "output_type": "stream",
     "text": [
      "Partial derivative of g with respect to x (dg/dx): 0.44761389172975896\n",
      "Partial derivative of g with respect to y (dg/dy): 1.4476133918250866\n"
     ]
    }
   ],
   "source": [
    "#QUESTION 7 \n",
    "\n",
    "def g(x, y):\n",
    "    return np.exp(x) + np.exp(y) + np.exp(-2*x*y) - np.log(x**2*y)\n",
    "\n",
    "def partial_derivative_x(func, x, y, h=1e-6):\n",
    "    return (func(x + h, y) - func(x, y)) / h\n",
    "\n",
    "def partial_derivative_y(func, x, y, h=1e-6):\n",
    "    return (func(x, y + h) - func(x, y)) / h\n",
    "\n",
    "x_val = 1.0\n",
    "y_val = 1.0\n",
    "\n",
    "dg_dx = partial_derivative_x(g, x_val, y_val)\n",
    "dg_dy = partial_derivative_y(g, x_val, y_val)\n",
    "\n",
    "print(\"Partial derivative of g with respect to x (dg/dx):\", dg_dx)\n",
    "print(\"Partial derivative of g with respect to y (dg/dy):\", dg_dy)\n"
   ]
  },
  {
   "cell_type": "code",
   "execution_count": 53,
   "id": "c82cbaa4-da1c-4836-b936-8b4abae1357f",
   "metadata": {},
   "outputs": [
    {
     "name": "stdout",
     "output_type": "stream",
     "text": [
      "Eigenvalues: [7.60555128e+00 3.94448725e-01 2.68593972e-16]\n",
      "Eigenvectors:\n",
      "Eigenvalue 1: 7.6055512754639905, Eigenvector: [-0.49079864 -0.31970025 -0.81049889]\n",
      "Eigenvalue 2: 0.39444872453601054, Eigenvector: [-0.65252078  0.75130448  0.0987837 ]\n",
      "Eigenvalue 3: 2.685939715055778e-16, Eigenvector: [-0.57735027 -0.57735027  0.57735027]\n"
     ]
    }
   ],
   "source": [
    "#QUESTION 8\n",
    "A = np.array([[2, 1, 3], [1, 1, 2], [3, 2, 5]])\n",
    "\n",
    "eigenvalues, eigenvectors = np.linalg.eig(A)\n",
    "\n",
    "\n",
    "print(\"Eigenvalues:\", eigenvalues)\n",
    "print(\"Eigenvectors:\")\n",
    "for i in range(len(eigenvalues)):\n",
    "    print(f\"Eigenvalue {i + 1}: {eigenvalues[i]}, Eigenvector: {eigenvectors[:, i]}\")\n",
    "\n"
   ]
  },
  {
   "cell_type": "code",
   "execution_count": 54,
   "id": "5bb6e1cd-0c36-464a-b3b3-2439217c2ed3",
   "metadata": {},
   "outputs": [
    {
     "name": "stdout",
     "output_type": "stream",
     "text": [
      "Eigen-decomposition of A:\n",
      "[[ 1.83205029e+00  0.00000000e+00  0.00000000e+00]\n",
      " [ 0.00000000e+00  2.22649902e-01 -0.00000000e+00]\n",
      " [ 0.00000000e+00 -0.00000000e+00  8.95313238e-17]]\n"
     ]
    }
   ],
   "source": [
    "# Eigen-decomposition\n",
    "P = eigenvectors\n",
    "D = np.diag(eigenvalues)\n",
    "A_decomposition = P * D * np.linalg.inv(P)\n",
    "\n",
    "print(\"Eigen-decomposition of A:\")\n",
    "print(A_decomposition)"
   ]
  },
  {
   "cell_type": "code",
   "execution_count": 55,
   "id": "92e0b7b0-fddf-415f-a5bd-ea342296bcd9",
   "metadata": {},
   "outputs": [
    {
     "name": "stdout",
     "output_type": "stream",
     "text": [
      "Rank of A: 2\n"
     ]
    }
   ],
   "source": [
    "# Rank of A\n",
    "rank_A = np.linalg.matrix_rank(A)\n",
    "print(\"Rank of A:\", rank_A)\n"
   ]
  },
  {
   "cell_type": "code",
   "execution_count": 56,
   "id": "f260887a-44d0-414f-bec2-17ea02a053ea",
   "metadata": {},
   "outputs": [
    {
     "name": "stdout",
     "output_type": "stream",
     "text": [
      "Is A positive definite: True\n"
     ]
    }
   ],
   "source": [
    "# Check positive definiteness\n",
    "is_positive_definite = np.all(np.linalg.eigvals(A) > 0)\n",
    "print(\"Is A positive definite:\", is_positive_definite)\n"
   ]
  },
  {
   "cell_type": "code",
   "execution_count": 57,
   "id": "96a89d8a-f150-4742-a7e4-637fbd60292e",
   "metadata": {},
   "outputs": [
    {
     "name": "stdout",
     "output_type": "stream",
     "text": [
      "Is A positive semi-definite: True\n"
     ]
    }
   ],
   "source": [
    "# Check positive semi-definiteness\n",
    "is_positive_semi_definite = np.all(np.linalg.eigvals(A) >= 0)\n",
    "print(\"Is A positive semi-definite:\", is_positive_semi_definite)\n"
   ]
  },
  {
   "cell_type": "code",
   "execution_count": 58,
   "id": "d24c9744-4e61-421f-9f16-826e3953e681",
   "metadata": {},
   "outputs": [
    {
     "name": "stdout",
     "output_type": "stream",
     "text": [
      "Is A singular: False\n"
     ]
    }
   ],
   "source": [
    "# Check singularity\n",
    "is_singular = np.linalg.det(A) == 0\n",
    "print(\"Is A singular:\", is_singular)"
   ]
  },
  {
   "cell_type": "code",
   "execution_count": null,
   "id": "f8a47993-eeec-454c-8780-e098ea9d26dc",
   "metadata": {},
   "outputs": [],
   "source": []
  }
 ],
 "metadata": {
  "kernelspec": {
   "display_name": "Python 3 (ipykernel)",
   "language": "python",
   "name": "python3"
  },
  "language_info": {
   "codemirror_mode": {
    "name": "ipython",
    "version": 3
   },
   "file_extension": ".py",
   "mimetype": "text/x-python",
   "name": "python",
   "nbconvert_exporter": "python",
   "pygments_lexer": "ipython3",
   "version": "3.10.4"
  }
 },
 "nbformat": 4,
 "nbformat_minor": 5
}
